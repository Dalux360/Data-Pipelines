{
 "cells": [
  {
   "cell_type": "markdown",
   "id": "b5978cd4",
   "metadata": {},
   "source": [
    "# Kafka-Python "
   ]
  },
  {
   "cell_type": "markdown",
   "id": "e3eb8a14",
   "metadata": {},
   "source": [
    "Hello 😊, So for the past few weeks I've learning Kafka, but since I hardly the first thing about Java I went looking for client in my favorite language - Hello kafka-python!\n",
    "\n",
    "### But Dalux, what is Kafka?\n",
    "\n",
    "Simply put, Apache Kafka is an open-source streaming platform that allows you to decouple your streams and your systems. You can think of it like a big commit log where data is stored in sequence as it happens. The users of this log can just access and use it as per their requirement...dont wait too log though, because the data is only persisted for 7 days by default - unless specified.\n",
    "\n",
    "\n",
    "\n",
    "Lets imagine fora second that you had 4 source systems writing data to 6 target systems...that would mean that you need to have 24 differnet itergrations when taking things like schema evolution, transport protocol and data format to name a few. \n",
    "\n",
    "\n",
    "\n",
    "![alt text](sourceandtarget.png \"Title\")"
   ]
  },
  {
   "cell_type": "markdown",
   "id": "e7f0707a",
   "metadata": {},
   "source": [
    "---"
   ]
  },
  {
   "cell_type": "markdown",
   "id": "d2857c83",
   "metadata": {},
   "source": [
    "By introducing Kafka, your source systems will have their data end up in Apache Kafka instead of target systems directly, so the traget system can collect the data from kafka throu various topics, making things a lot simpler for all thos involved.\n",
    "\n",
    "\n",
    "Now your systems only need to consueme data from Kafka\n",
    "\n",
    "![alt text](kafajoin.png \"Title\")"
   ]
  },
  {
   "cell_type": "markdown",
   "id": "155b62a8",
   "metadata": {},
   "source": [
    "With the the next few cells I hope to show that I can actually work with Kafka, and that your company should honsestly consider hirirng me as one of thier Data Engineers...seriously."
   ]
  },
  {
   "cell_type": "code",
   "execution_count": 27,
   "id": "af33ab0d",
   "metadata": {},
   "outputs": [],
   "source": [
    "#Importing all the libraries and modules I'll need for this example\n",
    "from kafka import KafkaProducer\n",
    "from kafka import KafkaConsumer\n",
    "from json import dumps\n",
    "from time import sleep\n",
    "from json import loads"
   ]
  },
  {
   "cell_type": "markdown",
   "id": "7c41ef05",
   "metadata": {},
   "source": [
    "In this example I'll create a producer that emits numbers from 1 to 1000 and sends them to the Kafka broker. Then a consumer will read the data from the broker."
   ]
  },
  {
   "cell_type": "code",
   "execution_count": 28,
   "id": "facba876",
   "metadata": {},
   "outputs": [],
   "source": [
    "producer = KafkaProducer(bootstrap_servers=['localhost:9092'],\n",
    "                         value_serializer=lambda x: \n",
    "                         dumps(x).encode('utf-8'))\n",
    "# value_serializer=lambda x: dumps(x).encode(‘utf-8’): function of how the data should be serialized \n",
    "# before sending to the broker. Here, we convert the data to a json file and encode it to utf-8"
   ]
  },
  {
   "cell_type": "markdown",
   "id": "2143a45a",
   "metadata": {},
   "source": [
    "Now that our producer is set up, lets put it to work. What I'll do next is generate 1000 numbers using a for loop, then I'll send these numbers out to the kafka broker. i have alredy created the \"thousand\" topic where the data will be pushed to.\n",
    "\n",
    "\n",
    "![alt text](thousand.png \"Title\")"
   ]
  },
  {
   "cell_type": "markdown",
   "id": "a0f2c0ff",
   "metadata": {},
   "source": [
    "---"
   ]
  },
  {
   "cell_type": "markdown",
   "id": "569941ae",
   "metadata": {},
   "source": [
    "Ok great! Now that I have the producer I can start putting to work by making it send data to kafka, for this purpose, I'll create a for loop that'l send numbers from 1 - 10 wit a 3 second wait time between iteration of the loop. Super simple I know, but this really is the essence of Apache Kafka"
   ]
  },
  {
   "cell_type": "code",
   "execution_count": 29,
   "id": "cf326fcf",
   "metadata": {},
   "outputs": [],
   "source": [
    "for e in range(10):\n",
    "    data = {'number' : e}\n",
    "    producer.send('thousand', value=data)\n",
    "    sleep(3)"
   ]
  },
  {
   "cell_type": "markdown",
   "id": "d4ceef38",
   "metadata": {},
   "source": [
    "Now it's time to consume the data from the thousand topic"
   ]
  },
  {
   "cell_type": "code",
   "execution_count": 30,
   "id": "45d36df5",
   "metadata": {},
   "outputs": [],
   "source": [
    "consumer = KafkaConsumer(\n",
    "    'thousand',\n",
    "     bootstrap_servers=['localhost:9092'],\n",
    "     auto_offset_reset='earliest',\n",
    "     enable_auto_commit=True,\n",
    "     group_id='thousand-group',\n",
    "     value_deserializer=lambda x: loads(x.decode('utf-8')))\n"
   ]
  },
  {
   "cell_type": "markdown",
   "id": "c0e2f44a",
   "metadata": {},
   "source": [
    "Now Let's see if the consumer actually gathered all of the data"
   ]
  },
  {
   "cell_type": "code",
   "execution_count": 31,
   "id": "deee7a0a",
   "metadata": {},
   "outputs": [
    {
     "name": "stdout",
     "output_type": "stream",
     "text": [
      "ConsumerRecord(topic='thousand', partition=0, offset=0, timestamp=1639991530076, timestamp_type=0, key=None, value={'number': 0}, headers=[], checksum=None, serialized_key_size=-1, serialized_value_size=13, serialized_header_size=-1)\n",
      "ConsumerRecord(topic='thousand', partition=0, offset=1, timestamp=1639991562621, timestamp_type=0, key=None, value={'number': 0}, headers=[], checksum=None, serialized_key_size=-1, serialized_value_size=13, serialized_header_size=-1)\n",
      "ConsumerRecord(topic='thousand', partition=0, offset=2, timestamp=1639991567623, timestamp_type=0, key=None, value={'number': 1}, headers=[], checksum=None, serialized_key_size=-1, serialized_value_size=13, serialized_header_size=-1)\n",
      "ConsumerRecord(topic='thousand', partition=0, offset=3, timestamp=1639991572626, timestamp_type=0, key=None, value={'number': 2}, headers=[], checksum=None, serialized_key_size=-1, serialized_value_size=13, serialized_header_size=-1)\n",
      "ConsumerRecord(topic='thousand', partition=0, offset=4, timestamp=1639991577631, timestamp_type=0, key=None, value={'number': 3}, headers=[], checksum=None, serialized_key_size=-1, serialized_value_size=13, serialized_header_size=-1)\n",
      "ConsumerRecord(topic='thousand', partition=0, offset=5, timestamp=1639991582633, timestamp_type=0, key=None, value={'number': 4}, headers=[], checksum=None, serialized_key_size=-1, serialized_value_size=13, serialized_header_size=-1)\n",
      "ConsumerRecord(topic='thousand', partition=0, offset=6, timestamp=1639991587638, timestamp_type=0, key=None, value={'number': 5}, headers=[], checksum=None, serialized_key_size=-1, serialized_value_size=13, serialized_header_size=-1)\n",
      "ConsumerRecord(topic='thousand', partition=0, offset=7, timestamp=1639991592639, timestamp_type=0, key=None, value={'number': 6}, headers=[], checksum=None, serialized_key_size=-1, serialized_value_size=13, serialized_header_size=-1)\n",
      "ConsumerRecord(topic='thousand', partition=0, offset=8, timestamp=1639991597642, timestamp_type=0, key=None, value={'number': 7}, headers=[], checksum=None, serialized_key_size=-1, serialized_value_size=13, serialized_header_size=-1)\n",
      "ConsumerRecord(topic='thousand', partition=0, offset=9, timestamp=1639991602646, timestamp_type=0, key=None, value={'number': 8}, headers=[], checksum=None, serialized_key_size=-1, serialized_value_size=13, serialized_header_size=-1)\n",
      "ConsumerRecord(topic='thousand', partition=0, offset=10, timestamp=1639991607648, timestamp_type=0, key=None, value={'number': 9}, headers=[], checksum=None, serialized_key_size=-1, serialized_value_size=13, serialized_header_size=-1)\n",
      "ConsumerRecord(topic='thousand', partition=0, offset=11, timestamp=1639991612653, timestamp_type=0, key=None, value={'number': 10}, headers=[], checksum=None, serialized_key_size=-1, serialized_value_size=14, serialized_header_size=-1)\n",
      "ConsumerRecord(topic='thousand', partition=0, offset=12, timestamp=1639991617654, timestamp_type=0, key=None, value={'number': 11}, headers=[], checksum=None, serialized_key_size=-1, serialized_value_size=14, serialized_header_size=-1)\n",
      "ConsumerRecord(topic='thousand', partition=0, offset=13, timestamp=1639991622660, timestamp_type=0, key=None, value={'number': 12}, headers=[], checksum=None, serialized_key_size=-1, serialized_value_size=14, serialized_header_size=-1)\n",
      "ConsumerRecord(topic='thousand', partition=0, offset=14, timestamp=1639991627665, timestamp_type=0, key=None, value={'number': 13}, headers=[], checksum=None, serialized_key_size=-1, serialized_value_size=14, serialized_header_size=-1)\n",
      "ConsumerRecord(topic='thousand', partition=0, offset=15, timestamp=1639991632670, timestamp_type=0, key=None, value={'number': 14}, headers=[], checksum=None, serialized_key_size=-1, serialized_value_size=14, serialized_header_size=-1)\n",
      "ConsumerRecord(topic='thousand', partition=0, offset=16, timestamp=1639991637672, timestamp_type=0, key=None, value={'number': 15}, headers=[], checksum=None, serialized_key_size=-1, serialized_value_size=14, serialized_header_size=-1)\n",
      "ConsumerRecord(topic='thousand', partition=0, offset=17, timestamp=1639991642674, timestamp_type=0, key=None, value={'number': 16}, headers=[], checksum=None, serialized_key_size=-1, serialized_value_size=14, serialized_header_size=-1)\n",
      "ConsumerRecord(topic='thousand', partition=0, offset=18, timestamp=1639991647675, timestamp_type=0, key=None, value={'number': 17}, headers=[], checksum=None, serialized_key_size=-1, serialized_value_size=14, serialized_header_size=-1)\n",
      "ConsumerRecord(topic='thousand', partition=0, offset=19, timestamp=1639991652680, timestamp_type=0, key=None, value={'number': 18}, headers=[], checksum=None, serialized_key_size=-1, serialized_value_size=14, serialized_header_size=-1)\n",
      "ConsumerRecord(topic='thousand', partition=0, offset=20, timestamp=1639991657681, timestamp_type=0, key=None, value={'number': 19}, headers=[], checksum=None, serialized_key_size=-1, serialized_value_size=14, serialized_header_size=-1)\n",
      "ConsumerRecord(topic='thousand', partition=0, offset=21, timestamp=1639991662687, timestamp_type=0, key=None, value={'number': 20}, headers=[], checksum=None, serialized_key_size=-1, serialized_value_size=14, serialized_header_size=-1)\n",
      "ConsumerRecord(topic='thousand', partition=0, offset=22, timestamp=1639991667692, timestamp_type=0, key=None, value={'number': 21}, headers=[], checksum=None, serialized_key_size=-1, serialized_value_size=14, serialized_header_size=-1)\n",
      "ConsumerRecord(topic='thousand', partition=0, offset=23, timestamp=1639991672695, timestamp_type=0, key=None, value={'number': 22}, headers=[], checksum=None, serialized_key_size=-1, serialized_value_size=14, serialized_header_size=-1)\n",
      "ConsumerRecord(topic='thousand', partition=0, offset=24, timestamp=1639991677698, timestamp_type=0, key=None, value={'number': 23}, headers=[], checksum=None, serialized_key_size=-1, serialized_value_size=14, serialized_header_size=-1)\n",
      "ConsumerRecord(topic='thousand', partition=0, offset=25, timestamp=1639991682704, timestamp_type=0, key=None, value={'number': 24}, headers=[], checksum=None, serialized_key_size=-1, serialized_value_size=14, serialized_header_size=-1)\n",
      "ConsumerRecord(topic='thousand', partition=0, offset=26, timestamp=1639991687704, timestamp_type=0, key=None, value={'number': 25}, headers=[], checksum=None, serialized_key_size=-1, serialized_value_size=14, serialized_header_size=-1)\n",
      "ConsumerRecord(topic='thousand', partition=0, offset=27, timestamp=1639991692709, timestamp_type=0, key=None, value={'number': 26}, headers=[], checksum=None, serialized_key_size=-1, serialized_value_size=14, serialized_header_size=-1)\n",
      "ConsumerRecord(topic='thousand', partition=0, offset=28, timestamp=1639991697712, timestamp_type=0, key=None, value={'number': 27}, headers=[], checksum=None, serialized_key_size=-1, serialized_value_size=14, serialized_header_size=-1)\n",
      "ConsumerRecord(topic='thousand', partition=0, offset=29, timestamp=1639991702712, timestamp_type=0, key=None, value={'number': 28}, headers=[], checksum=None, serialized_key_size=-1, serialized_value_size=14, serialized_header_size=-1)\n",
      "ConsumerRecord(topic='thousand', partition=0, offset=30, timestamp=1639991707715, timestamp_type=0, key=None, value={'number': 29}, headers=[], checksum=None, serialized_key_size=-1, serialized_value_size=14, serialized_header_size=-1)\n",
      "ConsumerRecord(topic='thousand', partition=0, offset=31, timestamp=1639991712720, timestamp_type=0, key=None, value={'number': 30}, headers=[], checksum=None, serialized_key_size=-1, serialized_value_size=14, serialized_header_size=-1)\n",
      "ConsumerRecord(topic='thousand', partition=0, offset=32, timestamp=1639991717723, timestamp_type=0, key=None, value={'number': 31}, headers=[], checksum=None, serialized_key_size=-1, serialized_value_size=14, serialized_header_size=-1)\n",
      "ConsumerRecord(topic='thousand', partition=0, offset=33, timestamp=1639991722728, timestamp_type=0, key=None, value={'number': 32}, headers=[], checksum=None, serialized_key_size=-1, serialized_value_size=14, serialized_header_size=-1)\n",
      "ConsumerRecord(topic='thousand', partition=0, offset=34, timestamp=1639991727733, timestamp_type=0, key=None, value={'number': 33}, headers=[], checksum=None, serialized_key_size=-1, serialized_value_size=14, serialized_header_size=-1)\n",
      "ConsumerRecord(topic='thousand', partition=0, offset=35, timestamp=1639991732740, timestamp_type=0, key=None, value={'number': 34}, headers=[], checksum=None, serialized_key_size=-1, serialized_value_size=14, serialized_header_size=-1)\n",
      "ConsumerRecord(topic='thousand', partition=0, offset=36, timestamp=1639991737751, timestamp_type=0, key=None, value={'number': 35}, headers=[], checksum=None, serialized_key_size=-1, serialized_value_size=14, serialized_header_size=-1)\n",
      "ConsumerRecord(topic='thousand', partition=0, offset=37, timestamp=1639991742760, timestamp_type=0, key=None, value={'number': 36}, headers=[], checksum=None, serialized_key_size=-1, serialized_value_size=14, serialized_header_size=-1)\n",
      "ConsumerRecord(topic='thousand', partition=0, offset=38, timestamp=1639991747766, timestamp_type=0, key=None, value={'number': 37}, headers=[], checksum=None, serialized_key_size=-1, serialized_value_size=14, serialized_header_size=-1)\n",
      "ConsumerRecord(topic='thousand', partition=0, offset=39, timestamp=1639991752773, timestamp_type=0, key=None, value={'number': 38}, headers=[], checksum=None, serialized_key_size=-1, serialized_value_size=14, serialized_header_size=-1)\n",
      "ConsumerRecord(topic='thousand', partition=0, offset=40, timestamp=1639991757770, timestamp_type=0, key=None, value={'number': 39}, headers=[], checksum=None, serialized_key_size=-1, serialized_value_size=14, serialized_header_size=-1)\n",
      "ConsumerRecord(topic='thousand', partition=0, offset=41, timestamp=1639991762765, timestamp_type=0, key=None, value={'number': 40}, headers=[], checksum=None, serialized_key_size=-1, serialized_value_size=14, serialized_header_size=-1)\n",
      "ConsumerRecord(topic='thousand', partition=0, offset=42, timestamp=1639991767762, timestamp_type=0, key=None, value={'number': 41}, headers=[], checksum=None, serialized_key_size=-1, serialized_value_size=14, serialized_header_size=-1)\n",
      "ConsumerRecord(topic='thousand', partition=0, offset=43, timestamp=1639991882045, timestamp_type=0, key=None, value={'number': 42}, headers=[], checksum=None, serialized_key_size=-1, serialized_value_size=14, serialized_header_size=-1)\n",
      "ConsumerRecord(topic='thousand', partition=0, offset=44, timestamp=1639991886963, timestamp_type=0, key=None, value={'number': 43}, headers=[], checksum=None, serialized_key_size=-1, serialized_value_size=14, serialized_header_size=-1)\n",
      "ConsumerRecord(topic='thousand', partition=0, offset=45, timestamp=1639991891961, timestamp_type=0, key=None, value={'number': 44}, headers=[], checksum=None, serialized_key_size=-1, serialized_value_size=14, serialized_header_size=-1)\n",
      "ConsumerRecord(topic='thousand', partition=0, offset=46, timestamp=1639991896957, timestamp_type=0, key=None, value={'number': 45}, headers=[], checksum=None, serialized_key_size=-1, serialized_value_size=14, serialized_header_size=-1)\n",
      "ConsumerRecord(topic='thousand', partition=0, offset=47, timestamp=1639991901957, timestamp_type=0, key=None, value={'number': 46}, headers=[], checksum=None, serialized_key_size=-1, serialized_value_size=14, serialized_header_size=-1)\n",
      "ConsumerRecord(topic='thousand', partition=0, offset=48, timestamp=1639991906956, timestamp_type=0, key=None, value={'number': 47}, headers=[], checksum=None, serialized_key_size=-1, serialized_value_size=14, serialized_header_size=-1)\n",
      "ConsumerRecord(topic='thousand', partition=0, offset=49, timestamp=1639991911957, timestamp_type=0, key=None, value={'number': 48}, headers=[], checksum=None, serialized_key_size=-1, serialized_value_size=14, serialized_header_size=-1)\n",
      "ConsumerRecord(topic='thousand', partition=0, offset=50, timestamp=1639991916961, timestamp_type=0, key=None, value={'number': 49}, headers=[], checksum=None, serialized_key_size=-1, serialized_value_size=14, serialized_header_size=-1)\n",
      "ConsumerRecord(topic='thousand', partition=0, offset=51, timestamp=1639991921963, timestamp_type=0, key=None, value={'number': 50}, headers=[], checksum=None, serialized_key_size=-1, serialized_value_size=14, serialized_header_size=-1)\n",
      "ConsumerRecord(topic='thousand', partition=0, offset=52, timestamp=1639991926965, timestamp_type=0, key=None, value={'number': 51}, headers=[], checksum=None, serialized_key_size=-1, serialized_value_size=14, serialized_header_size=-1)\n",
      "ConsumerRecord(topic='thousand', partition=0, offset=53, timestamp=1639991931966, timestamp_type=0, key=None, value={'number': 52}, headers=[], checksum=None, serialized_key_size=-1, serialized_value_size=14, serialized_header_size=-1)\n",
      "ConsumerRecord(topic='thousand', partition=0, offset=54, timestamp=1639991936968, timestamp_type=0, key=None, value={'number': 53}, headers=[], checksum=None, serialized_key_size=-1, serialized_value_size=14, serialized_header_size=-1)\n",
      "ConsumerRecord(topic='thousand', partition=0, offset=55, timestamp=1639991941972, timestamp_type=0, key=None, value={'number': 54}, headers=[], checksum=None, serialized_key_size=-1, serialized_value_size=14, serialized_header_size=-1)\n",
      "ConsumerRecord(topic='thousand', partition=0, offset=56, timestamp=1639991946977, timestamp_type=0, key=None, value={'number': 55}, headers=[], checksum=None, serialized_key_size=-1, serialized_value_size=14, serialized_header_size=-1)\n",
      "ConsumerRecord(topic='thousand', partition=0, offset=57, timestamp=1639991951980, timestamp_type=0, key=None, value={'number': 56}, headers=[], checksum=None, serialized_key_size=-1, serialized_value_size=14, serialized_header_size=-1)\n",
      "ConsumerRecord(topic='thousand', partition=0, offset=58, timestamp=1639991956985, timestamp_type=0, key=None, value={'number': 57}, headers=[], checksum=None, serialized_key_size=-1, serialized_value_size=14, serialized_header_size=-1)\n",
      "ConsumerRecord(topic='thousand', partition=0, offset=59, timestamp=1639991961990, timestamp_type=0, key=None, value={'number': 58}, headers=[], checksum=None, serialized_key_size=-1, serialized_value_size=14, serialized_header_size=-1)\n",
      "ConsumerRecord(topic='thousand', partition=0, offset=60, timestamp=1639991966995, timestamp_type=0, key=None, value={'number': 59}, headers=[], checksum=None, serialized_key_size=-1, serialized_value_size=14, serialized_header_size=-1)\n",
      "ConsumerRecord(topic='thousand', partition=0, offset=61, timestamp=1639991971999, timestamp_type=0, key=None, value={'number': 60}, headers=[], checksum=None, serialized_key_size=-1, serialized_value_size=14, serialized_header_size=-1)\n",
      "ConsumerRecord(topic='thousand', partition=0, offset=62, timestamp=1639991977004, timestamp_type=0, key=None, value={'number': 61}, headers=[], checksum=None, serialized_key_size=-1, serialized_value_size=14, serialized_header_size=-1)\n",
      "ConsumerRecord(topic='thousand', partition=0, offset=63, timestamp=1639991982007, timestamp_type=0, key=None, value={'number': 62}, headers=[], checksum=None, serialized_key_size=-1, serialized_value_size=14, serialized_header_size=-1)\n",
      "ConsumerRecord(topic='thousand', partition=0, offset=64, timestamp=1639991987011, timestamp_type=0, key=None, value={'number': 63}, headers=[], checksum=None, serialized_key_size=-1, serialized_value_size=14, serialized_header_size=-1)\n",
      "ConsumerRecord(topic='thousand', partition=0, offset=65, timestamp=1639991992011, timestamp_type=0, key=None, value={'number': 64}, headers=[], checksum=None, serialized_key_size=-1, serialized_value_size=14, serialized_header_size=-1)\n",
      "ConsumerRecord(topic='thousand', partition=0, offset=66, timestamp=1639991997016, timestamp_type=0, key=None, value={'number': 65}, headers=[], checksum=None, serialized_key_size=-1, serialized_value_size=14, serialized_header_size=-1)\n",
      "ConsumerRecord(topic='thousand', partition=0, offset=67, timestamp=1639992002018, timestamp_type=0, key=None, value={'number': 66}, headers=[], checksum=None, serialized_key_size=-1, serialized_value_size=14, serialized_header_size=-1)\n",
      "ConsumerRecord(topic='thousand', partition=0, offset=68, timestamp=1639992007018, timestamp_type=0, key=None, value={'number': 67}, headers=[], checksum=None, serialized_key_size=-1, serialized_value_size=14, serialized_header_size=-1)\n",
      "ConsumerRecord(topic='thousand', partition=0, offset=69, timestamp=1639992012021, timestamp_type=0, key=None, value={'number': 68}, headers=[], checksum=None, serialized_key_size=-1, serialized_value_size=14, serialized_header_size=-1)\n",
      "ConsumerRecord(topic='thousand', partition=0, offset=70, timestamp=1639992017026, timestamp_type=0, key=None, value={'number': 69}, headers=[], checksum=None, serialized_key_size=-1, serialized_value_size=14, serialized_header_size=-1)\n",
      "ConsumerRecord(topic='thousand', partition=0, offset=71, timestamp=1639992022030, timestamp_type=0, key=None, value={'number': 70}, headers=[], checksum=None, serialized_key_size=-1, serialized_value_size=14, serialized_header_size=-1)\n",
      "ConsumerRecord(topic='thousand', partition=0, offset=72, timestamp=1639992027040, timestamp_type=0, key=None, value={'number': 71}, headers=[], checksum=None, serialized_key_size=-1, serialized_value_size=14, serialized_header_size=-1)\n",
      "ConsumerRecord(topic='thousand', partition=0, offset=73, timestamp=1639992032047, timestamp_type=0, key=None, value={'number': 72}, headers=[], checksum=None, serialized_key_size=-1, serialized_value_size=14, serialized_header_size=-1)\n",
      "ConsumerRecord(topic='thousand', partition=0, offset=74, timestamp=1639992037057, timestamp_type=0, key=None, value={'number': 73}, headers=[], checksum=None, serialized_key_size=-1, serialized_value_size=14, serialized_header_size=-1)\n",
      "ConsumerRecord(topic='thousand', partition=0, offset=75, timestamp=1639992042067, timestamp_type=0, key=None, value={'number': 74}, headers=[], checksum=None, serialized_key_size=-1, serialized_value_size=14, serialized_header_size=-1)\n",
      "ConsumerRecord(topic='thousand', partition=0, offset=76, timestamp=1639992047077, timestamp_type=0, key=None, value={'number': 75}, headers=[], checksum=None, serialized_key_size=-1, serialized_value_size=14, serialized_header_size=-1)\n",
      "ConsumerRecord(topic='thousand', partition=0, offset=77, timestamp=1639992052082, timestamp_type=0, key=None, value={'number': 76}, headers=[], checksum=None, serialized_key_size=-1, serialized_value_size=14, serialized_header_size=-1)\n",
      "ConsumerRecord(topic='thousand', partition=0, offset=78, timestamp=1639992057088, timestamp_type=0, key=None, value={'number': 77}, headers=[], checksum=None, serialized_key_size=-1, serialized_value_size=14, serialized_header_size=-1)\n",
      "ConsumerRecord(topic='thousand', partition=0, offset=79, timestamp=1639992062094, timestamp_type=0, key=None, value={'number': 78}, headers=[], checksum=None, serialized_key_size=-1, serialized_value_size=14, serialized_header_size=-1)\n",
      "ConsumerRecord(topic='thousand', partition=0, offset=80, timestamp=1639992067099, timestamp_type=0, key=None, value={'number': 79}, headers=[], checksum=None, serialized_key_size=-1, serialized_value_size=14, serialized_header_size=-1)\n",
      "ConsumerRecord(topic='thousand', partition=0, offset=81, timestamp=1639992941629, timestamp_type=0, key=None, value={'number': 80}, headers=[], checksum=None, serialized_key_size=-1, serialized_value_size=14, serialized_header_size=-1)\n",
      "ConsumerRecord(topic='thousand', partition=0, offset=82, timestamp=1639992946697, timestamp_type=0, key=None, value={'number': 81}, headers=[], checksum=None, serialized_key_size=-1, serialized_value_size=14, serialized_header_size=-1)\n",
      "ConsumerRecord(topic='thousand', partition=0, offset=83, timestamp=1639992951700, timestamp_type=0, key=None, value={'number': 82}, headers=[], checksum=None, serialized_key_size=-1, serialized_value_size=14, serialized_header_size=-1)\n",
      "ConsumerRecord(topic='thousand', partition=0, offset=84, timestamp=1639992956704, timestamp_type=0, key=None, value={'number': 83}, headers=[], checksum=None, serialized_key_size=-1, serialized_value_size=14, serialized_header_size=-1)\n",
      "ConsumerRecord(topic='thousand', partition=0, offset=85, timestamp=1639992961705, timestamp_type=0, key=None, value={'number': 84}, headers=[], checksum=None, serialized_key_size=-1, serialized_value_size=14, serialized_header_size=-1)\n",
      "ConsumerRecord(topic='thousand', partition=0, offset=86, timestamp=1639992966708, timestamp_type=0, key=None, value={'number': 85}, headers=[], checksum=None, serialized_key_size=-1, serialized_value_size=14, serialized_header_size=-1)\n",
      "ConsumerRecord(topic='thousand', partition=0, offset=87, timestamp=1639992978379, timestamp_type=0, key=None, value={'number': 0}, headers=[], checksum=None, serialized_key_size=-1, serialized_value_size=13, serialized_header_size=-1)\n",
      "ConsumerRecord(topic='thousand', partition=0, offset=88, timestamp=1639992978379, timestamp_type=0, key=None, value={'number': 1}, headers=[], checksum=None, serialized_key_size=-1, serialized_value_size=13, serialized_header_size=-1)\n",
      "ConsumerRecord(topic='thousand', partition=0, offset=89, timestamp=1639992978379, timestamp_type=0, key=None, value={'number': 2}, headers=[], checksum=None, serialized_key_size=-1, serialized_value_size=13, serialized_header_size=-1)\n",
      "ConsumerRecord(topic='thousand', partition=0, offset=90, timestamp=1639992978379, timestamp_type=0, key=None, value={'number': 3}, headers=[], checksum=None, serialized_key_size=-1, serialized_value_size=13, serialized_header_size=-1)\n",
      "ConsumerRecord(topic='thousand', partition=0, offset=91, timestamp=1639992978379, timestamp_type=0, key=None, value={'number': 4}, headers=[], checksum=None, serialized_key_size=-1, serialized_value_size=13, serialized_header_size=-1)\n",
      "ConsumerRecord(topic='thousand', partition=0, offset=92, timestamp=1639992978379, timestamp_type=0, key=None, value={'number': 5}, headers=[], checksum=None, serialized_key_size=-1, serialized_value_size=13, serialized_header_size=-1)\n",
      "ConsumerRecord(topic='thousand', partition=0, offset=93, timestamp=1639992978379, timestamp_type=0, key=None, value={'number': 6}, headers=[], checksum=None, serialized_key_size=-1, serialized_value_size=13, serialized_header_size=-1)\n",
      "ConsumerRecord(topic='thousand', partition=0, offset=94, timestamp=1639992978379, timestamp_type=0, key=None, value={'number': 7}, headers=[], checksum=None, serialized_key_size=-1, serialized_value_size=13, serialized_header_size=-1)\n",
      "ConsumerRecord(topic='thousand', partition=0, offset=95, timestamp=1639992978379, timestamp_type=0, key=None, value={'number': 8}, headers=[], checksum=None, serialized_key_size=-1, serialized_value_size=13, serialized_header_size=-1)\n",
      "ConsumerRecord(topic='thousand', partition=0, offset=96, timestamp=1639992978379, timestamp_type=0, key=None, value={'number': 9}, headers=[], checksum=None, serialized_key_size=-1, serialized_value_size=13, serialized_header_size=-1)\n",
      "ConsumerRecord(topic='thousand', partition=0, offset=97, timestamp=1639993526725, timestamp_type=0, key=None, value={'number': 0}, headers=[], checksum=None, serialized_key_size=-1, serialized_value_size=13, serialized_header_size=-1)\n",
      "ConsumerRecord(topic='thousand', partition=0, offset=98, timestamp=1639993529726, timestamp_type=0, key=None, value={'number': 1}, headers=[], checksum=None, serialized_key_size=-1, serialized_value_size=13, serialized_header_size=-1)\n",
      "ConsumerRecord(topic='thousand', partition=0, offset=99, timestamp=1639993532732, timestamp_type=0, key=None, value={'number': 2}, headers=[], checksum=None, serialized_key_size=-1, serialized_value_size=13, serialized_header_size=-1)\n",
      "ConsumerRecord(topic='thousand', partition=0, offset=100, timestamp=1639993535735, timestamp_type=0, key=None, value={'number': 3}, headers=[], checksum=None, serialized_key_size=-1, serialized_value_size=13, serialized_header_size=-1)\n",
      "ConsumerRecord(topic='thousand', partition=0, offset=101, timestamp=1639993538736, timestamp_type=0, key=None, value={'number': 4}, headers=[], checksum=None, serialized_key_size=-1, serialized_value_size=13, serialized_header_size=-1)\n",
      "ConsumerRecord(topic='thousand', partition=0, offset=102, timestamp=1639993541736, timestamp_type=0, key=None, value={'number': 5}, headers=[], checksum=None, serialized_key_size=-1, serialized_value_size=13, serialized_header_size=-1)\n",
      "ConsumerRecord(topic='thousand', partition=0, offset=103, timestamp=1639993544737, timestamp_type=0, key=None, value={'number': 6}, headers=[], checksum=None, serialized_key_size=-1, serialized_value_size=13, serialized_header_size=-1)\n",
      "ConsumerRecord(topic='thousand', partition=0, offset=104, timestamp=1639993547742, timestamp_type=0, key=None, value={'number': 7}, headers=[], checksum=None, serialized_key_size=-1, serialized_value_size=13, serialized_header_size=-1)\n",
      "ConsumerRecord(topic='thousand', partition=0, offset=105, timestamp=1639993550743, timestamp_type=0, key=None, value={'number': 8}, headers=[], checksum=None, serialized_key_size=-1, serialized_value_size=13, serialized_header_size=-1)\n",
      "ConsumerRecord(topic='thousand', partition=0, offset=106, timestamp=1639993553748, timestamp_type=0, key=None, value={'number': 9}, headers=[], checksum=None, serialized_key_size=-1, serialized_value_size=13, serialized_header_size=-1)\n",
      "ConsumerRecord(topic='thousand', partition=0, offset=107, timestamp=1639994889413, timestamp_type=0, key=None, value={'number': 0}, headers=[], checksum=None, serialized_key_size=-1, serialized_value_size=13, serialized_header_size=-1)\n",
      "ConsumerRecord(topic='thousand', partition=0, offset=108, timestamp=1639994892415, timestamp_type=0, key=None, value={'number': 1}, headers=[], checksum=None, serialized_key_size=-1, serialized_value_size=13, serialized_header_size=-1)\n",
      "ConsumerRecord(topic='thousand', partition=0, offset=109, timestamp=1639994895416, timestamp_type=0, key=None, value={'number': 2}, headers=[], checksum=None, serialized_key_size=-1, serialized_value_size=13, serialized_header_size=-1)\n",
      "ConsumerRecord(topic='thousand', partition=0, offset=110, timestamp=1639994898418, timestamp_type=0, key=None, value={'number': 3}, headers=[], checksum=None, serialized_key_size=-1, serialized_value_size=13, serialized_header_size=-1)\n",
      "ConsumerRecord(topic='thousand', partition=0, offset=111, timestamp=1639994901420, timestamp_type=0, key=None, value={'number': 4}, headers=[], checksum=None, serialized_key_size=-1, serialized_value_size=13, serialized_header_size=-1)\n",
      "ConsumerRecord(topic='thousand', partition=0, offset=112, timestamp=1639994904421, timestamp_type=0, key=None, value={'number': 5}, headers=[], checksum=None, serialized_key_size=-1, serialized_value_size=13, serialized_header_size=-1)\n",
      "ConsumerRecord(topic='thousand', partition=0, offset=113, timestamp=1639994907422, timestamp_type=0, key=None, value={'number': 6}, headers=[], checksum=None, serialized_key_size=-1, serialized_value_size=13, serialized_header_size=-1)\n",
      "ConsumerRecord(topic='thousand', partition=0, offset=114, timestamp=1639994910425, timestamp_type=0, key=None, value={'number': 7}, headers=[], checksum=None, serialized_key_size=-1, serialized_value_size=13, serialized_header_size=-1)\n",
      "ConsumerRecord(topic='thousand', partition=0, offset=115, timestamp=1639994913430, timestamp_type=0, key=None, value={'number': 8}, headers=[], checksum=None, serialized_key_size=-1, serialized_value_size=13, serialized_header_size=-1)\n",
      "ConsumerRecord(topic='thousand', partition=0, offset=116, timestamp=1639994916435, timestamp_type=0, key=None, value={'number': 9}, headers=[], checksum=None, serialized_key_size=-1, serialized_value_size=13, serialized_header_size=-1)\n",
      "ConsumerRecord(topic='thousand', partition=0, offset=117, timestamp=1639994919565, timestamp_type=0, key=None, value={'number': 0}, headers=[], checksum=None, serialized_key_size=-1, serialized_value_size=13, serialized_header_size=-1)\n",
      "ConsumerRecord(topic='thousand', partition=0, offset=118, timestamp=1639994922568, timestamp_type=0, key=None, value={'number': 1}, headers=[], checksum=None, serialized_key_size=-1, serialized_value_size=13, serialized_header_size=-1)\n",
      "ConsumerRecord(topic='thousand', partition=0, offset=119, timestamp=1639994925571, timestamp_type=0, key=None, value={'number': 2}, headers=[], checksum=None, serialized_key_size=-1, serialized_value_size=13, serialized_header_size=-1)\n",
      "ConsumerRecord(topic='thousand', partition=0, offset=120, timestamp=1639994928572, timestamp_type=0, key=None, value={'number': 3}, headers=[], checksum=None, serialized_key_size=-1, serialized_value_size=13, serialized_header_size=-1)\n",
      "ConsumerRecord(topic='thousand', partition=0, offset=121, timestamp=1639994931576, timestamp_type=0, key=None, value={'number': 4}, headers=[], checksum=None, serialized_key_size=-1, serialized_value_size=13, serialized_header_size=-1)\n",
      "ConsumerRecord(topic='thousand', partition=0, offset=122, timestamp=1639994934577, timestamp_type=0, key=None, value={'number': 5}, headers=[], checksum=None, serialized_key_size=-1, serialized_value_size=13, serialized_header_size=-1)\n",
      "ConsumerRecord(topic='thousand', partition=0, offset=123, timestamp=1639994937579, timestamp_type=0, key=None, value={'number': 6}, headers=[], checksum=None, serialized_key_size=-1, serialized_value_size=13, serialized_header_size=-1)\n",
      "ConsumerRecord(topic='thousand', partition=0, offset=124, timestamp=1639994940579, timestamp_type=0, key=None, value={'number': 7}, headers=[], checksum=None, serialized_key_size=-1, serialized_value_size=13, serialized_header_size=-1)\n",
      "ConsumerRecord(topic='thousand', partition=0, offset=125, timestamp=1639994943580, timestamp_type=0, key=None, value={'number': 8}, headers=[], checksum=None, serialized_key_size=-1, serialized_value_size=13, serialized_header_size=-1)\n",
      "ConsumerRecord(topic='thousand', partition=0, offset=126, timestamp=1639994946580, timestamp_type=0, key=None, value={'number': 9}, headers=[], checksum=None, serialized_key_size=-1, serialized_value_size=13, serialized_header_size=-1)\n"
     ]
    },
    {
     "ename": "KeyboardInterrupt",
     "evalue": "",
     "output_type": "error",
     "traceback": [
      "\u001b[0;31m---------------------------------------------------------------------------\u001b[0m",
      "\u001b[0;31mKeyboardInterrupt\u001b[0m                         Traceback (most recent call last)",
      "\u001b[0;32m<ipython-input-31-175442a37be2>\u001b[0m in \u001b[0;36m<module>\u001b[0;34m\u001b[0m\n\u001b[0;32m----> 1\u001b[0;31m \u001b[0;32mfor\u001b[0m \u001b[0mmessage\u001b[0m \u001b[0;32min\u001b[0m \u001b[0mconsumer\u001b[0m\u001b[0;34m:\u001b[0m\u001b[0;34m\u001b[0m\u001b[0;34m\u001b[0m\u001b[0m\n\u001b[0m\u001b[1;32m      2\u001b[0m     \u001b[0mprint\u001b[0m\u001b[0;34m(\u001b[0m\u001b[0mmessage\u001b[0m\u001b[0;34m)\u001b[0m\u001b[0;34m\u001b[0m\u001b[0;34m\u001b[0m\u001b[0m\n",
      "\u001b[0;32m/opt/anaconda3/lib/python3.8/site-packages/kafka/consumer/group.py\u001b[0m in \u001b[0;36m__next__\u001b[0;34m(self)\u001b[0m\n\u001b[1;32m   1191\u001b[0m             \u001b[0;32mreturn\u001b[0m \u001b[0mself\u001b[0m\u001b[0;34m.\u001b[0m\u001b[0mnext_v1\u001b[0m\u001b[0;34m(\u001b[0m\u001b[0;34m)\u001b[0m\u001b[0;34m\u001b[0m\u001b[0;34m\u001b[0m\u001b[0m\n\u001b[1;32m   1192\u001b[0m         \u001b[0;32melse\u001b[0m\u001b[0;34m:\u001b[0m\u001b[0;34m\u001b[0m\u001b[0;34m\u001b[0m\u001b[0m\n\u001b[0;32m-> 1193\u001b[0;31m             \u001b[0;32mreturn\u001b[0m \u001b[0mself\u001b[0m\u001b[0;34m.\u001b[0m\u001b[0mnext_v2\u001b[0m\u001b[0;34m(\u001b[0m\u001b[0;34m)\u001b[0m\u001b[0;34m\u001b[0m\u001b[0;34m\u001b[0m\u001b[0m\n\u001b[0m\u001b[1;32m   1194\u001b[0m \u001b[0;34m\u001b[0m\u001b[0m\n\u001b[1;32m   1195\u001b[0m     \u001b[0;32mdef\u001b[0m \u001b[0mnext_v2\u001b[0m\u001b[0;34m(\u001b[0m\u001b[0mself\u001b[0m\u001b[0;34m)\u001b[0m\u001b[0;34m:\u001b[0m\u001b[0;34m\u001b[0m\u001b[0;34m\u001b[0m\u001b[0m\n",
      "\u001b[0;32m/opt/anaconda3/lib/python3.8/site-packages/kafka/consumer/group.py\u001b[0m in \u001b[0;36mnext_v2\u001b[0;34m(self)\u001b[0m\n\u001b[1;32m   1199\u001b[0m                 \u001b[0mself\u001b[0m\u001b[0;34m.\u001b[0m\u001b[0m_iterator\u001b[0m \u001b[0;34m=\u001b[0m \u001b[0mself\u001b[0m\u001b[0;34m.\u001b[0m\u001b[0m_message_generator_v2\u001b[0m\u001b[0;34m(\u001b[0m\u001b[0;34m)\u001b[0m\u001b[0;34m\u001b[0m\u001b[0;34m\u001b[0m\u001b[0m\n\u001b[1;32m   1200\u001b[0m             \u001b[0;32mtry\u001b[0m\u001b[0;34m:\u001b[0m\u001b[0;34m\u001b[0m\u001b[0;34m\u001b[0m\u001b[0m\n\u001b[0;32m-> 1201\u001b[0;31m                 \u001b[0;32mreturn\u001b[0m \u001b[0mnext\u001b[0m\u001b[0;34m(\u001b[0m\u001b[0mself\u001b[0m\u001b[0;34m.\u001b[0m\u001b[0m_iterator\u001b[0m\u001b[0;34m)\u001b[0m\u001b[0;34m\u001b[0m\u001b[0;34m\u001b[0m\u001b[0m\n\u001b[0m\u001b[1;32m   1202\u001b[0m             \u001b[0;32mexcept\u001b[0m \u001b[0mStopIteration\u001b[0m\u001b[0;34m:\u001b[0m\u001b[0;34m\u001b[0m\u001b[0;34m\u001b[0m\u001b[0m\n\u001b[1;32m   1203\u001b[0m                 \u001b[0mself\u001b[0m\u001b[0;34m.\u001b[0m\u001b[0m_iterator\u001b[0m \u001b[0;34m=\u001b[0m \u001b[0;32mNone\u001b[0m\u001b[0;34m\u001b[0m\u001b[0;34m\u001b[0m\u001b[0m\n",
      "\u001b[0;32m/opt/anaconda3/lib/python3.8/site-packages/kafka/consumer/group.py\u001b[0m in \u001b[0;36m_message_generator_v2\u001b[0;34m(self)\u001b[0m\n\u001b[1;32m   1114\u001b[0m     \u001b[0;32mdef\u001b[0m \u001b[0m_message_generator_v2\u001b[0m\u001b[0;34m(\u001b[0m\u001b[0mself\u001b[0m\u001b[0;34m)\u001b[0m\u001b[0;34m:\u001b[0m\u001b[0;34m\u001b[0m\u001b[0;34m\u001b[0m\u001b[0m\n\u001b[1;32m   1115\u001b[0m         \u001b[0mtimeout_ms\u001b[0m \u001b[0;34m=\u001b[0m \u001b[0;36m1000\u001b[0m \u001b[0;34m*\u001b[0m \u001b[0;34m(\u001b[0m\u001b[0mself\u001b[0m\u001b[0;34m.\u001b[0m\u001b[0m_consumer_timeout\u001b[0m \u001b[0;34m-\u001b[0m \u001b[0mtime\u001b[0m\u001b[0;34m.\u001b[0m\u001b[0mtime\u001b[0m\u001b[0;34m(\u001b[0m\u001b[0;34m)\u001b[0m\u001b[0;34m)\u001b[0m\u001b[0;34m\u001b[0m\u001b[0;34m\u001b[0m\u001b[0m\n\u001b[0;32m-> 1116\u001b[0;31m         \u001b[0mrecord_map\u001b[0m \u001b[0;34m=\u001b[0m \u001b[0mself\u001b[0m\u001b[0;34m.\u001b[0m\u001b[0mpoll\u001b[0m\u001b[0;34m(\u001b[0m\u001b[0mtimeout_ms\u001b[0m\u001b[0;34m=\u001b[0m\u001b[0mtimeout_ms\u001b[0m\u001b[0;34m,\u001b[0m \u001b[0mupdate_offsets\u001b[0m\u001b[0;34m=\u001b[0m\u001b[0;32mFalse\u001b[0m\u001b[0;34m)\u001b[0m\u001b[0;34m\u001b[0m\u001b[0;34m\u001b[0m\u001b[0m\n\u001b[0m\u001b[1;32m   1117\u001b[0m         \u001b[0;32mfor\u001b[0m \u001b[0mtp\u001b[0m\u001b[0;34m,\u001b[0m \u001b[0mrecords\u001b[0m \u001b[0;32min\u001b[0m \u001b[0msix\u001b[0m\u001b[0;34m.\u001b[0m\u001b[0miteritems\u001b[0m\u001b[0;34m(\u001b[0m\u001b[0mrecord_map\u001b[0m\u001b[0;34m)\u001b[0m\u001b[0;34m:\u001b[0m\u001b[0;34m\u001b[0m\u001b[0;34m\u001b[0m\u001b[0m\n\u001b[1;32m   1118\u001b[0m             \u001b[0;31m# Generators are stateful, and it is possible that the tp / records\u001b[0m\u001b[0;34m\u001b[0m\u001b[0;34m\u001b[0m\u001b[0;34m\u001b[0m\u001b[0m\n",
      "\u001b[0;32m/opt/anaconda3/lib/python3.8/site-packages/kafka/consumer/group.py\u001b[0m in \u001b[0;36mpoll\u001b[0;34m(self, timeout_ms, max_records, update_offsets)\u001b[0m\n\u001b[1;32m    653\u001b[0m         \u001b[0mremaining\u001b[0m \u001b[0;34m=\u001b[0m \u001b[0mtimeout_ms\u001b[0m\u001b[0;34m\u001b[0m\u001b[0;34m\u001b[0m\u001b[0m\n\u001b[1;32m    654\u001b[0m         \u001b[0;32mwhile\u001b[0m \u001b[0;32mTrue\u001b[0m\u001b[0;34m:\u001b[0m\u001b[0;34m\u001b[0m\u001b[0;34m\u001b[0m\u001b[0m\n\u001b[0;32m--> 655\u001b[0;31m             \u001b[0mrecords\u001b[0m \u001b[0;34m=\u001b[0m \u001b[0mself\u001b[0m\u001b[0;34m.\u001b[0m\u001b[0m_poll_once\u001b[0m\u001b[0;34m(\u001b[0m\u001b[0mremaining\u001b[0m\u001b[0;34m,\u001b[0m \u001b[0mmax_records\u001b[0m\u001b[0;34m,\u001b[0m \u001b[0mupdate_offsets\u001b[0m\u001b[0;34m=\u001b[0m\u001b[0mupdate_offsets\u001b[0m\u001b[0;34m)\u001b[0m\u001b[0;34m\u001b[0m\u001b[0;34m\u001b[0m\u001b[0m\n\u001b[0m\u001b[1;32m    656\u001b[0m             \u001b[0;32mif\u001b[0m \u001b[0mrecords\u001b[0m\u001b[0;34m:\u001b[0m\u001b[0;34m\u001b[0m\u001b[0;34m\u001b[0m\u001b[0m\n\u001b[1;32m    657\u001b[0m                 \u001b[0;32mreturn\u001b[0m \u001b[0mrecords\u001b[0m\u001b[0;34m\u001b[0m\u001b[0;34m\u001b[0m\u001b[0m\n",
      "\u001b[0;32m/opt/anaconda3/lib/python3.8/site-packages/kafka/consumer/group.py\u001b[0m in \u001b[0;36m_poll_once\u001b[0;34m(self, timeout_ms, max_records, update_offsets)\u001b[0m\n\u001b[1;32m    700\u001b[0m \u001b[0;34m\u001b[0m\u001b[0m\n\u001b[1;32m    701\u001b[0m         \u001b[0mtimeout_ms\u001b[0m \u001b[0;34m=\u001b[0m \u001b[0mmin\u001b[0m\u001b[0;34m(\u001b[0m\u001b[0mtimeout_ms\u001b[0m\u001b[0;34m,\u001b[0m \u001b[0mself\u001b[0m\u001b[0;34m.\u001b[0m\u001b[0m_coordinator\u001b[0m\u001b[0;34m.\u001b[0m\u001b[0mtime_to_next_poll\u001b[0m\u001b[0;34m(\u001b[0m\u001b[0;34m)\u001b[0m \u001b[0;34m*\u001b[0m \u001b[0;36m1000\u001b[0m\u001b[0;34m)\u001b[0m\u001b[0;34m\u001b[0m\u001b[0;34m\u001b[0m\u001b[0m\n\u001b[0;32m--> 702\u001b[0;31m         \u001b[0mself\u001b[0m\u001b[0;34m.\u001b[0m\u001b[0m_client\u001b[0m\u001b[0;34m.\u001b[0m\u001b[0mpoll\u001b[0m\u001b[0;34m(\u001b[0m\u001b[0mtimeout_ms\u001b[0m\u001b[0;34m=\u001b[0m\u001b[0mtimeout_ms\u001b[0m\u001b[0;34m)\u001b[0m\u001b[0;34m\u001b[0m\u001b[0;34m\u001b[0m\u001b[0m\n\u001b[0m\u001b[1;32m    703\u001b[0m         \u001b[0;31m# after the long poll, we should check whether the group needs to rebalance\u001b[0m\u001b[0;34m\u001b[0m\u001b[0;34m\u001b[0m\u001b[0;34m\u001b[0m\u001b[0m\n\u001b[1;32m    704\u001b[0m         \u001b[0;31m# prior to returning data so that the group can stabilize faster\u001b[0m\u001b[0;34m\u001b[0m\u001b[0;34m\u001b[0m\u001b[0;34m\u001b[0m\u001b[0m\n",
      "\u001b[0;32m/opt/anaconda3/lib/python3.8/site-packages/kafka/client_async.py\u001b[0m in \u001b[0;36mpoll\u001b[0;34m(self, timeout_ms, future)\u001b[0m\n\u001b[1;32m    600\u001b[0m                     \u001b[0mtimeout\u001b[0m \u001b[0;34m=\u001b[0m \u001b[0mmax\u001b[0m\u001b[0;34m(\u001b[0m\u001b[0;36m0\u001b[0m\u001b[0;34m,\u001b[0m \u001b[0mtimeout\u001b[0m\u001b[0;34m)\u001b[0m  \u001b[0;31m# avoid negative timeouts\u001b[0m\u001b[0;34m\u001b[0m\u001b[0;34m\u001b[0m\u001b[0m\n\u001b[1;32m    601\u001b[0m \u001b[0;34m\u001b[0m\u001b[0m\n\u001b[0;32m--> 602\u001b[0;31m                 \u001b[0mself\u001b[0m\u001b[0;34m.\u001b[0m\u001b[0m_poll\u001b[0m\u001b[0;34m(\u001b[0m\u001b[0mtimeout\u001b[0m \u001b[0;34m/\u001b[0m \u001b[0;36m1000\u001b[0m\u001b[0;34m)\u001b[0m\u001b[0;34m\u001b[0m\u001b[0;34m\u001b[0m\u001b[0m\n\u001b[0m\u001b[1;32m    603\u001b[0m \u001b[0;34m\u001b[0m\u001b[0m\n\u001b[1;32m    604\u001b[0m             \u001b[0;31m# called without the lock to avoid deadlock potential\u001b[0m\u001b[0;34m\u001b[0m\u001b[0;34m\u001b[0m\u001b[0;34m\u001b[0m\u001b[0m\n",
      "\u001b[0;32m/opt/anaconda3/lib/python3.8/site-packages/kafka/client_async.py\u001b[0m in \u001b[0;36m_poll\u001b[0;34m(self, timeout)\u001b[0m\n\u001b[1;32m    632\u001b[0m \u001b[0;34m\u001b[0m\u001b[0m\n\u001b[1;32m    633\u001b[0m         \u001b[0mstart_select\u001b[0m \u001b[0;34m=\u001b[0m \u001b[0mtime\u001b[0m\u001b[0;34m.\u001b[0m\u001b[0mtime\u001b[0m\u001b[0;34m(\u001b[0m\u001b[0;34m)\u001b[0m\u001b[0;34m\u001b[0m\u001b[0;34m\u001b[0m\u001b[0m\n\u001b[0;32m--> 634\u001b[0;31m         \u001b[0mready\u001b[0m \u001b[0;34m=\u001b[0m \u001b[0mself\u001b[0m\u001b[0;34m.\u001b[0m\u001b[0m_selector\u001b[0m\u001b[0;34m.\u001b[0m\u001b[0mselect\u001b[0m\u001b[0;34m(\u001b[0m\u001b[0mtimeout\u001b[0m\u001b[0;34m)\u001b[0m\u001b[0;34m\u001b[0m\u001b[0;34m\u001b[0m\u001b[0m\n\u001b[0m\u001b[1;32m    635\u001b[0m         \u001b[0mend_select\u001b[0m \u001b[0;34m=\u001b[0m \u001b[0mtime\u001b[0m\u001b[0;34m.\u001b[0m\u001b[0mtime\u001b[0m\u001b[0;34m(\u001b[0m\u001b[0;34m)\u001b[0m\u001b[0;34m\u001b[0m\u001b[0;34m\u001b[0m\u001b[0m\n\u001b[1;32m    636\u001b[0m         \u001b[0;32mif\u001b[0m \u001b[0mself\u001b[0m\u001b[0;34m.\u001b[0m\u001b[0m_sensors\u001b[0m\u001b[0;34m:\u001b[0m\u001b[0;34m\u001b[0m\u001b[0;34m\u001b[0m\u001b[0m\n",
      "\u001b[0;32m/opt/anaconda3/lib/python3.8/selectors.py\u001b[0m in \u001b[0;36mselect\u001b[0;34m(self, timeout)\u001b[0m\n\u001b[1;32m    556\u001b[0m             \u001b[0mready\u001b[0m \u001b[0;34m=\u001b[0m \u001b[0;34m[\u001b[0m\u001b[0;34m]\u001b[0m\u001b[0;34m\u001b[0m\u001b[0;34m\u001b[0m\u001b[0m\n\u001b[1;32m    557\u001b[0m             \u001b[0;32mtry\u001b[0m\u001b[0;34m:\u001b[0m\u001b[0;34m\u001b[0m\u001b[0;34m\u001b[0m\u001b[0m\n\u001b[0;32m--> 558\u001b[0;31m                 \u001b[0mkev_list\u001b[0m \u001b[0;34m=\u001b[0m \u001b[0mself\u001b[0m\u001b[0;34m.\u001b[0m\u001b[0m_selector\u001b[0m\u001b[0;34m.\u001b[0m\u001b[0mcontrol\u001b[0m\u001b[0;34m(\u001b[0m\u001b[0;32mNone\u001b[0m\u001b[0;34m,\u001b[0m \u001b[0mmax_ev\u001b[0m\u001b[0;34m,\u001b[0m \u001b[0mtimeout\u001b[0m\u001b[0;34m)\u001b[0m\u001b[0;34m\u001b[0m\u001b[0;34m\u001b[0m\u001b[0m\n\u001b[0m\u001b[1;32m    559\u001b[0m             \u001b[0;32mexcept\u001b[0m \u001b[0mInterruptedError\u001b[0m\u001b[0;34m:\u001b[0m\u001b[0;34m\u001b[0m\u001b[0;34m\u001b[0m\u001b[0m\n\u001b[1;32m    560\u001b[0m                 \u001b[0;32mreturn\u001b[0m \u001b[0mready\u001b[0m\u001b[0;34m\u001b[0m\u001b[0;34m\u001b[0m\u001b[0m\n",
      "\u001b[0;31mKeyboardInterrupt\u001b[0m: "
     ]
    }
   ],
   "source": [
    "for message in consumer:\n",
    "    print(message)"
   ]
  },
  {
   "cell_type": "markdown",
   "id": "cd8e54e0",
   "metadata": {},
   "source": [
    "That to me looks like success!!"
   ]
  }
 ],
 "metadata": {
  "kernelspec": {
   "display_name": "Python 3",
   "language": "python",
   "name": "python3"
  },
  "language_info": {
   "codemirror_mode": {
    "name": "ipython",
    "version": 3
   },
   "file_extension": ".py",
   "mimetype": "text/x-python",
   "name": "python",
   "nbconvert_exporter": "python",
   "pygments_lexer": "ipython3",
   "version": "3.8.8"
  }
 },
 "nbformat": 4,
 "nbformat_minor": 5
}
